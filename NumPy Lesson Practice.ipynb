{
 "cells": [
  {
   "cell_type": "code",
   "execution_count": 1,
   "metadata": {},
   "outputs": [],
   "source": [
    "import numpy as np\n",
    "\n",
    "x = np.array([1, 2, 3, 4, 5])"
   ]
  },
  {
   "cell_type": "code",
   "execution_count": 2,
   "metadata": {},
   "outputs": [
    {
     "name": "stdout",
     "output_type": "stream",
     "text": [
      "[1 2 3 4 5]\n",
      "<class 'numpy.ndarray'>\n"
     ]
    }
   ],
   "source": [
    "print(x)\n",
    "print(type(x))"
   ]
  },
  {
   "cell_type": "code",
   "execution_count": 3,
   "metadata": {},
   "outputs": [
    {
     "data": {
      "text/plain": [
       "dtype('int32')"
      ]
     },
     "execution_count": 3,
     "metadata": {},
     "output_type": "execute_result"
    }
   ],
   "source": [
    "x.dtype"
   ]
  },
  {
   "cell_type": "code",
   "execution_count": 4,
   "metadata": {},
   "outputs": [
    {
     "data": {
      "text/plain": [
       "(5,)"
      ]
     },
     "execution_count": 4,
     "metadata": {},
     "output_type": "execute_result"
    }
   ],
   "source": [
    "x.shape"
   ]
  },
  {
   "cell_type": "code",
   "execution_count": 6,
   "metadata": {},
   "outputs": [
    {
     "name": "stdout",
     "output_type": "stream",
     "text": [
      "[[ 1  2  3]\n",
      " [ 4  5  6]\n",
      " [ 7  8  9]\n",
      " [10 11 12]]\n"
     ]
    }
   ],
   "source": [
    "Y = np.array([[1, 2, 3], [4, 5, 6], [7, 8, 9], [10, 11, 12]])\n",
    "print(Y)"
   ]
  },
  {
   "cell_type": "code",
   "execution_count": 7,
   "metadata": {},
   "outputs": [
    {
     "data": {
      "text/plain": [
       "(4, 3)"
      ]
     },
     "execution_count": 7,
     "metadata": {},
     "output_type": "execute_result"
    }
   ],
   "source": [
    "Y.shape"
   ]
  },
  {
   "cell_type": "code",
   "execution_count": 8,
   "metadata": {},
   "outputs": [
    {
     "data": {
      "text/plain": [
       "12"
      ]
     },
     "execution_count": 8,
     "metadata": {},
     "output_type": "execute_result"
    }
   ],
   "source": [
    "Y.size"
   ]
  },
  {
   "cell_type": "code",
   "execution_count": 11,
   "metadata": {},
   "outputs": [
    {
     "name": "stdout",
     "output_type": "stream",
     "text": [
      "[[0. 0. 0. 0.]\n",
      " [0. 0. 0. 0.]\n",
      " [0. 0. 0. 0.]]\n"
     ]
    }
   ],
   "source": [
    "X = np.zeros((3,4))\n",
    "print(X)"
   ]
  },
  {
   "cell_type": "code",
   "execution_count": 13,
   "metadata": {},
   "outputs": [
    {
     "name": "stdout",
     "output_type": "stream",
     "text": [
      "[[5 5 5]\n",
      " [5 5 5]\n",
      " [5 5 5]\n",
      " [5 5 5]]\n"
     ]
    }
   ],
   "source": [
    "X = np.full((4, 3), 5)\n",
    "print(X)"
   ]
  },
  {
   "cell_type": "code",
   "execution_count": 14,
   "metadata": {},
   "outputs": [
    {
     "name": "stdout",
     "output_type": "stream",
     "text": [
      "[[1. 0. 0. 0. 0.]\n",
      " [0. 1. 0. 0. 0.]\n",
      " [0. 0. 1. 0. 0.]\n",
      " [0. 0. 0. 1. 0.]\n",
      " [0. 0. 0. 0. 1.]]\n"
     ]
    }
   ],
   "source": [
    "X = np.eye(5)\n",
    "print(X)"
   ]
  },
  {
   "cell_type": "code",
   "execution_count": 16,
   "metadata": {},
   "outputs": [
    {
     "name": "stdout",
     "output_type": "stream",
     "text": [
      "[[10  0  0  0]\n",
      " [ 0 20  0  0]\n",
      " [ 0  0 30  0]\n",
      " [ 0  0  0 50]]\n"
     ]
    }
   ],
   "source": [
    "X = np.diag([10, 20, 30, 50])\n",
    "print(X)"
   ]
  },
  {
   "cell_type": "code",
   "execution_count": 17,
   "metadata": {},
   "outputs": [
    {
     "name": "stdout",
     "output_type": "stream",
     "text": [
      "[0 1 2 3 4 5 6 7 8 9]\n"
     ]
    }
   ],
   "source": [
    "x = np.arange(10)\n",
    "print(x)"
   ]
  },
  {
   "cell_type": "code",
   "execution_count": 18,
   "metadata": {},
   "outputs": [
    {
     "name": "stdout",
     "output_type": "stream",
     "text": [
      "[4 5 6 7 8 9]\n"
     ]
    }
   ],
   "source": [
    "x = np.arange(4, 10)\n",
    "print(x)"
   ]
  },
  {
   "cell_type": "code",
   "execution_count": 19,
   "metadata": {},
   "outputs": [
    {
     "name": "stdout",
     "output_type": "stream",
     "text": [
      "[ 1  4  7 10 13]\n"
     ]
    }
   ],
   "source": [
    "x = np.arange(1, 14, 3)\n",
    "print(x)"
   ]
  },
  {
   "cell_type": "code",
   "execution_count": 20,
   "metadata": {},
   "outputs": [
    {
     "name": "stdout",
     "output_type": "stream",
     "text": [
      "[ 0.          2.77777778  5.55555556  8.33333333 11.11111111 13.88888889\n",
      " 16.66666667 19.44444444 22.22222222 25.        ]\n"
     ]
    }
   ],
   "source": [
    "x = np.linspace(0, 25, 10)\n",
    "print(x)"
   ]
  },
  {
   "cell_type": "code",
   "execution_count": 21,
   "metadata": {},
   "outputs": [
    {
     "name": "stdout",
     "output_type": "stream",
     "text": [
      "[ 0.   2.5  5.   7.5 10.  12.5 15.  17.5 20.  22.5]\n"
     ]
    }
   ],
   "source": [
    "x = np.linspace(0, 25, 10, endpoint=False)\n",
    "print(x)"
   ]
  },
  {
   "cell_type": "code",
   "execution_count": 32,
   "metadata": {},
   "outputs": [
    {
     "name": "stdout",
     "output_type": "stream",
     "text": [
      "arange 1D:  [ 0  1  2  3  4  5  6  7  8  9 10 11 12 13 14 15 16 17 18 19]\n",
      "\n",
      "reshaped 2D: \n",
      " [[ 0  1  2  3  4]\n",
      " [ 5  6  7  8  9]\n",
      " [10 11 12 13 14]\n",
      " [15 16 17 18 19]] \n",
      "\n",
      "Z will fail with ValueError, it cannot reshape array of size 20 into shape (5,5)!\n"
     ]
    }
   ],
   "source": [
    "x = np.arange(20)\n",
    "print(\"arange 1D: \", x)\n",
    "y = np.reshape(x, (4, 5))\n",
    "print(\"\\nreshaped 2D: \\n\", y, \"\\n\")\n",
    "\n",
    "try:\n",
    "    z = np.reshape(x, (5, 5))\n",
    "except ValueError:\n",
    "    print(\"Z will fail with ValueError, it cannot reshape array of size 20 into shape (5,5)!\")"
   ]
  },
  {
   "cell_type": "code",
   "execution_count": 33,
   "metadata": {},
   "outputs": [
    {
     "name": "stdout",
     "output_type": "stream",
     "text": [
      "[[0.01385649 0.9258945  0.52263519]\n",
      " [0.91466573 0.65838074 0.1811005 ]\n",
      " [0.67326031 0.28568811 0.34354034]]\n"
     ]
    }
   ],
   "source": [
    "random_array = np.random.random((3, 3))\n",
    "print(random_array)"
   ]
  },
  {
   "cell_type": "code",
   "execution_count": 34,
   "metadata": {},
   "outputs": [
    {
     "name": "stdout",
     "output_type": "stream",
     "text": [
      "[[ 5 14]\n",
      " [ 4  7]\n",
      " [11  7]]\n"
     ]
    }
   ],
   "source": [
    "random_int = np.random.randint(4, 15, (3, 2))\n",
    "print(random_int)"
   ]
  },
  {
   "cell_type": "code",
   "execution_count": 38,
   "metadata": {},
   "outputs": [
    {
     "name": "stdout",
     "output_type": "stream",
     "text": [
      "This gives a 1000x1000 array of normal/gaussian distribution w/ mean=0, std dev=0.1 \n",
      "\n",
      "[[ 0.01289667  0.05276966  0.02824236 ...  0.10514806 -0.05108906\n",
      "  -0.11072513]\n",
      " [-0.02823885 -0.00574846  0.07580092 ... -0.05632063 -0.04207828\n",
      "   0.08787688]\n",
      " [ 0.05710716  0.06211718 -0.0345226  ... -0.18413866 -0.21544777\n",
      "  -0.11084232]\n",
      " ...\n",
      " [-0.08738216  0.01107896  0.05358118 ...  0.08788401 -0.00378445\n",
      "   0.18901478]\n",
      " [ 0.18159284  0.07810318 -0.16273987 ... -0.19324793 -0.16538658\n",
      "   0.17882044]\n",
      " [-0.23059794  0.01727862  0.1445534  ... -0.02650837 -0.05755347\n",
      "  -0.03615493]]\n"
     ]
    }
   ],
   "source": [
    "random_normal_dist = np.random.normal(0, 0.1, size=(1000,1000))\n",
    "print(\"This gives a 1000x1000 array of normal/gaussian distribution w/ mean=0, std dev=0.1 \\n\")\n",
    "print(random_normal_dist)"
   ]
  },
  {
   "cell_type": "code",
   "execution_count": 39,
   "metadata": {},
   "outputs": [
    {
     "name": "stdout",
     "output_type": "stream",
     "text": [
      "mean:  -4.867316097159501e-05\n",
      "std:  0.10011803168452399\n",
      "max:  0.48844677520684626\n",
      "min:  -0.47381662049814804\n",
      "# positives:  499489\n",
      "# negatives:  500511\n"
     ]
    }
   ],
   "source": [
    "print('mean: ', random_normal_dist.mean())\n",
    "print('std: ', random_normal_dist.std())\n",
    "print('max: ', random_normal_dist.max())\n",
    "print('min: ', random_normal_dist.min())\n",
    "print('# positives: ', (random_normal_dist > 0).sum())\n",
    "print('# negatives: ', (random_normal_dist < 0).sum())"
   ]
  },
  {
   "cell_type": "markdown",
   "metadata": {},
   "source": [
    "<b>Accessing, Deleting, and Inserting Elements Into ndarrays</b>"
   ]
  },
  {
   "cell_type": "code",
   "execution_count": 2,
   "metadata": {},
   "outputs": [
    {
     "name": "stdout",
     "output_type": "stream",
     "text": [
      "[1 2 3 4 5]\n"
     ]
    }
   ],
   "source": [
    "import numpy as np\n",
    "ex_index = np.array([1, 2, 3, 4, 5])\n",
    "print(ex_index)"
   ]
  },
  {
   "cell_type": "code",
   "execution_count": 3,
   "metadata": {},
   "outputs": [
    {
     "name": "stdout",
     "output_type": "stream",
     "text": [
      "1st:  1\n",
      "2nd:  2\n",
      "3rd:  3\n"
     ]
    }
   ],
   "source": [
    "print('1st: ', ex_index[0])\n",
    "print('2nd: ', ex_index[1])\n",
    "print('3rd: ', ex_index[2])"
   ]
  },
  {
   "cell_type": "code",
   "execution_count": 4,
   "metadata": {},
   "outputs": [
    {
     "name": "stdout",
     "output_type": "stream",
     "text": [
      "[ 1  2  3 20  5]\n"
     ]
    }
   ],
   "source": [
    "ex_index[3] = 20\n",
    "print(ex_index)"
   ]
  },
  {
   "cell_type": "code",
   "execution_count": 10,
   "metadata": {},
   "outputs": [
    {
     "name": "stdout",
     "output_type": "stream",
     "text": [
      "[1 2 3 4 5 6 7 8 9] \n",
      "\n",
      "[[1 2 3]\n",
      " [4 5 6]\n",
      " [7 8 9]]\n"
     ]
    }
   ],
   "source": [
    "ex_index2 = np.arange(1, 10)\n",
    "print(ex_index2, \"\\n\")\n",
    "ex_index2 = ex_index2.reshape(3, 3)\n",
    "print(ex_index2)"
   ]
  },
  {
   "cell_type": "code",
   "execution_count": 11,
   "metadata": {},
   "outputs": [
    {
     "name": "stdout",
     "output_type": "stream",
     "text": [
      "Element at (0, 0):  1\n",
      "Element at (0, 1):  2\n",
      "Element at (2, 2):  9\n"
     ]
    }
   ],
   "source": [
    "print(\"Element at (0, 0): \", ex_index2[0, 0])\n",
    "print(\"Element at (0, 1): \", ex_index2[0, 1])\n",
    "print(\"Element at (2, 2): \", ex_index2[2, 2])"
   ]
  },
  {
   "cell_type": "code",
   "execution_count": 12,
   "metadata": {},
   "outputs": [
    {
     "name": "stdout",
     "output_type": "stream",
     "text": [
      "[[20  2  3]\n",
      " [ 4  5  6]\n",
      " [ 7  8  9]]\n"
     ]
    }
   ],
   "source": [
    "ex_index2[0, 0] = 20\n",
    "print(ex_index2)"
   ]
  },
  {
   "cell_type": "code",
   "execution_count": 15,
   "metadata": {},
   "outputs": [
    {
     "name": "stdout",
     "output_type": "stream",
     "text": [
      "[1 2 3 4 5]\n",
      "[2 3 4]\n"
     ]
    }
   ],
   "source": [
    "ex_del = np.array([1, 2, 3, 4, 5])\n",
    "print(ex_del)\n",
    "\n",
    "ex_del = np.delete(ex_del, [0, 4])\n",
    "print(ex_del)"
   ]
  },
  {
   "cell_type": "code",
   "execution_count": 20,
   "metadata": {},
   "outputs": [
    {
     "name": "stdout",
     "output_type": "stream",
     "text": [
      "[[1 2 3]\n",
      " [4 5 6]\n",
      " [7 8 9]]\n",
      "\n",
      " [[4 5 6]\n",
      " [7 8 9]]\n",
      "\n",
      " [[2]\n",
      " [5]\n",
      " [8]]\n"
     ]
    }
   ],
   "source": [
    "ex_del2 = np.arange(1, 10).reshape(3, 3)\n",
    "print(ex_del2)\n",
    "\n",
    "ex_del2_row = np.delete(ex_del2, 0, axis=0)\n",
    "print(\"\\n\", ex_del2_row)\n",
    "\n",
    "ex_del2_col = np.delete(ex_del2, [0, 2], axis=1)\n",
    "print(\"\\n\", ex_del2_col)"
   ]
  },
  {
   "cell_type": "code",
   "execution_count": 24,
   "metadata": {},
   "outputs": [
    {
     "name": "stdout",
     "output_type": "stream",
     "text": [
      "[1 2 3 4 5]\n",
      "[1 2 3 4 5 6]\n",
      "[1 2 3 4 5 6 7 8 9]\n"
     ]
    }
   ],
   "source": [
    "ex_append = np.array([1,2,3,4,5])\n",
    "print(ex_append)\n",
    "\n",
    "ex_append = np.append(ex_append, [6])\n",
    "print(ex_append)\n",
    "\n",
    "ex_append = np.append(ex_append, [7,8,9])\n",
    "print(ex_append)"
   ]
  },
  {
   "cell_type": "code",
   "execution_count": 35,
   "metadata": {},
   "outputs": [
    {
     "name": "stdout",
     "output_type": "stream",
     "text": [
      "[[1 2 3]\n",
      " [4 5 6]\n",
      " [7 8 9]]\n",
      "\n",
      " [[ 1  2  3]\n",
      " [ 4  5  6]\n",
      " [ 7  8  9]\n",
      " [10 11 12]]\n",
      "\n",
      " [[ 1  2  3  6]\n",
      " [ 4  5  6 15]\n",
      " [ 7  8  9 24]\n",
      " [10 11 12 34]]\n"
     ]
    }
   ],
   "source": [
    "ex_append2 = np.arange(1, 10).reshape(3, 3)\n",
    "print(ex_append2)\n",
    "\n",
    "ex_append2 = np.append(ex_append2, [[10, 11, 12]], axis=0)\n",
    "print(\"\\n\", ex_append2)\n",
    "\n",
    "ex_append2 = np.append(ex_append2, [[6],[15],[24], [34]], axis=1)\n",
    "print(\"\\n\", ex_append2)"
   ]
  },
  {
   "cell_type": "code",
   "execution_count": 37,
   "metadata": {},
   "outputs": [
    {
     "name": "stdout",
     "output_type": "stream",
     "text": [
      "[1 2 5 6 7]\n",
      "\n",
      " [1 2 3 4 5 6 7]\n"
     ]
    }
   ],
   "source": [
    "ex_insert = np.array([1,2,5,6,7])\n",
    "print(ex_insert)\n",
    "\n",
    "ex_insert = np.insert(ex_insert, 2, [3,4])\n",
    "print(\"\\n\", ex_insert)"
   ]
  },
  {
   "cell_type": "code",
   "execution_count": 43,
   "metadata": {},
   "outputs": [
    {
     "name": "stdout",
     "output_type": "stream",
     "text": [
      "[[1 2 3]\n",
      " [7 8 9]]\n",
      "\n",
      " [[1 2 3]\n",
      " [4 5 6]\n",
      " [7 8 9]]\n",
      "\n",
      " [[1 5 2 3]\n",
      " [4 5 5 6]\n",
      " [7 5 8 9]]\n"
     ]
    }
   ],
   "source": [
    "ex_insert2 = np.array([[1,2,3], [7,8,9]])\n",
    "print(ex_insert2)\n",
    "\n",
    "ex_insert2 = np.insert(ex_insert2, 1, [4,5,6], axis=0)\n",
    "print(\"\\n\", ex_insert2)\n",
    "\n",
    "ex_insert2 = np.insert(ex_insert2, 1, 5, axis=1)\n",
    "print(\"\\n\", ex_insert2)"
   ]
  },
  {
   "cell_type": "code",
   "execution_count": 48,
   "metadata": {},
   "outputs": [
    {
     "name": "stdout",
     "output_type": "stream",
     "text": [
      "[1 2]\n",
      "\n",
      " [[3 4]\n",
      " [5 6]]\n",
      "\n",
      " [[1 2]\n",
      " [3 4]\n",
      " [5 6]]\n",
      "\n",
      " [[1 3 4]\n",
      " [2 5 6]]\n"
     ]
    }
   ],
   "source": [
    "stack_single = np.array([1,2])\n",
    "print(stack_single)\n",
    "\n",
    "stack_multi = np.array([[3,4], [5,6]])\n",
    "print(\"\\n\", stack_multi)\n",
    "\n",
    "vert_stack = np.vstack([stack_single, stack_multi])\n",
    "print(\"\\n\", vert_stack)\n",
    "\n",
    "horiz_stack = np.hstack([stack_single.reshape(2, 1), stack_multi])\n",
    "print(\"\\n\", horiz_stack)"
   ]
  }
 ],
 "metadata": {
  "kernelspec": {
   "display_name": "Python 3",
   "language": "python",
   "name": "python3"
  },
  "language_info": {
   "codemirror_mode": {
    "name": "ipython",
    "version": 3
   },
   "file_extension": ".py",
   "mimetype": "text/x-python",
   "name": "python",
   "nbconvert_exporter": "python",
   "pygments_lexer": "ipython3",
   "version": "3.7.6"
  }
 },
 "nbformat": 4,
 "nbformat_minor": 4
}
