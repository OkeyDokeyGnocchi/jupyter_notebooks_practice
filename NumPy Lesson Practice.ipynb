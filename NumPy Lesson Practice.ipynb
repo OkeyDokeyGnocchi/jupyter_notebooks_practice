{
 "cells": [
  {
   "cell_type": "markdown",
   "metadata": {},
   "source": [
    "<b>Creating Arrays</b>"
   ]
  },
  {
   "cell_type": "code",
   "execution_count": 1,
   "metadata": {},
   "outputs": [],
   "source": [
    "import numpy as np\n",
    "\n",
    "x = np.array([1, 2, 3, 4, 5])"
   ]
  },
  {
   "cell_type": "code",
   "execution_count": 2,
   "metadata": {},
   "outputs": [
    {
     "name": "stdout",
     "output_type": "stream",
     "text": [
      "[1 2 3 4 5]\n",
      "<class 'numpy.ndarray'>\n"
     ]
    }
   ],
   "source": [
    "print(x)\n",
    "print(type(x))"
   ]
  },
  {
   "cell_type": "code",
   "execution_count": 3,
   "metadata": {},
   "outputs": [
    {
     "data": {
      "text/plain": [
       "dtype('int32')"
      ]
     },
     "execution_count": 3,
     "metadata": {},
     "output_type": "execute_result"
    }
   ],
   "source": [
    "x.dtype"
   ]
  },
  {
   "cell_type": "code",
   "execution_count": 4,
   "metadata": {},
   "outputs": [
    {
     "data": {
      "text/plain": [
       "(5,)"
      ]
     },
     "execution_count": 4,
     "metadata": {},
     "output_type": "execute_result"
    }
   ],
   "source": [
    "x.shape"
   ]
  },
  {
   "cell_type": "code",
   "execution_count": 6,
   "metadata": {},
   "outputs": [
    {
     "name": "stdout",
     "output_type": "stream",
     "text": [
      "[[ 1  2  3]\n",
      " [ 4  5  6]\n",
      " [ 7  8  9]\n",
      " [10 11 12]]\n"
     ]
    }
   ],
   "source": [
    "Y = np.array([[1, 2, 3], [4, 5, 6], [7, 8, 9], [10, 11, 12]])\n",
    "print(Y)"
   ]
  },
  {
   "cell_type": "code",
   "execution_count": 7,
   "metadata": {},
   "outputs": [
    {
     "data": {
      "text/plain": [
       "(4, 3)"
      ]
     },
     "execution_count": 7,
     "metadata": {},
     "output_type": "execute_result"
    }
   ],
   "source": [
    "Y.shape"
   ]
  },
  {
   "cell_type": "code",
   "execution_count": 8,
   "metadata": {},
   "outputs": [
    {
     "data": {
      "text/plain": [
       "12"
      ]
     },
     "execution_count": 8,
     "metadata": {},
     "output_type": "execute_result"
    }
   ],
   "source": [
    "Y.size"
   ]
  },
  {
   "cell_type": "code",
   "execution_count": 11,
   "metadata": {},
   "outputs": [
    {
     "name": "stdout",
     "output_type": "stream",
     "text": [
      "[[0. 0. 0. 0.]\n",
      " [0. 0. 0. 0.]\n",
      " [0. 0. 0. 0.]]\n"
     ]
    }
   ],
   "source": [
    "X = np.zeros((3,4))\n",
    "print(X)"
   ]
  },
  {
   "cell_type": "code",
   "execution_count": 13,
   "metadata": {},
   "outputs": [
    {
     "name": "stdout",
     "output_type": "stream",
     "text": [
      "[[5 5 5]\n",
      " [5 5 5]\n",
      " [5 5 5]\n",
      " [5 5 5]]\n"
     ]
    }
   ],
   "source": [
    "X = np.full((4, 3), 5)\n",
    "print(X)"
   ]
  },
  {
   "cell_type": "code",
   "execution_count": 14,
   "metadata": {},
   "outputs": [
    {
     "name": "stdout",
     "output_type": "stream",
     "text": [
      "[[1. 0. 0. 0. 0.]\n",
      " [0. 1. 0. 0. 0.]\n",
      " [0. 0. 1. 0. 0.]\n",
      " [0. 0. 0. 1. 0.]\n",
      " [0. 0. 0. 0. 1.]]\n"
     ]
    }
   ],
   "source": [
    "X = np.eye(5)\n",
    "print(X)"
   ]
  },
  {
   "cell_type": "code",
   "execution_count": 16,
   "metadata": {},
   "outputs": [
    {
     "name": "stdout",
     "output_type": "stream",
     "text": [
      "[[10  0  0  0]\n",
      " [ 0 20  0  0]\n",
      " [ 0  0 30  0]\n",
      " [ 0  0  0 50]]\n"
     ]
    }
   ],
   "source": [
    "X = np.diag([10, 20, 30, 50])\n",
    "print(X)"
   ]
  },
  {
   "cell_type": "code",
   "execution_count": 17,
   "metadata": {},
   "outputs": [
    {
     "name": "stdout",
     "output_type": "stream",
     "text": [
      "[0 1 2 3 4 5 6 7 8 9]\n"
     ]
    }
   ],
   "source": [
    "x = np.arange(10)\n",
    "print(x)"
   ]
  },
  {
   "cell_type": "code",
   "execution_count": 18,
   "metadata": {},
   "outputs": [
    {
     "name": "stdout",
     "output_type": "stream",
     "text": [
      "[4 5 6 7 8 9]\n"
     ]
    }
   ],
   "source": [
    "x = np.arange(4, 10)\n",
    "print(x)"
   ]
  },
  {
   "cell_type": "code",
   "execution_count": 19,
   "metadata": {},
   "outputs": [
    {
     "name": "stdout",
     "output_type": "stream",
     "text": [
      "[ 1  4  7 10 13]\n"
     ]
    }
   ],
   "source": [
    "x = np.arange(1, 14, 3)\n",
    "print(x)"
   ]
  },
  {
   "cell_type": "code",
   "execution_count": 20,
   "metadata": {},
   "outputs": [
    {
     "name": "stdout",
     "output_type": "stream",
     "text": [
      "[ 0.          2.77777778  5.55555556  8.33333333 11.11111111 13.88888889\n",
      " 16.66666667 19.44444444 22.22222222 25.        ]\n"
     ]
    }
   ],
   "source": [
    "x = np.linspace(0, 25, 10)\n",
    "print(x)"
   ]
  },
  {
   "cell_type": "code",
   "execution_count": 21,
   "metadata": {},
   "outputs": [
    {
     "name": "stdout",
     "output_type": "stream",
     "text": [
      "[ 0.   2.5  5.   7.5 10.  12.5 15.  17.5 20.  22.5]\n"
     ]
    }
   ],
   "source": [
    "x = np.linspace(0, 25, 10, endpoint=False)\n",
    "print(x)"
   ]
  },
  {
   "cell_type": "code",
   "execution_count": 32,
   "metadata": {},
   "outputs": [
    {
     "name": "stdout",
     "output_type": "stream",
     "text": [
      "arange 1D:  [ 0  1  2  3  4  5  6  7  8  9 10 11 12 13 14 15 16 17 18 19]\n",
      "\n",
      "reshaped 2D: \n",
      " [[ 0  1  2  3  4]\n",
      " [ 5  6  7  8  9]\n",
      " [10 11 12 13 14]\n",
      " [15 16 17 18 19]] \n",
      "\n",
      "Z will fail with ValueError, it cannot reshape array of size 20 into shape (5,5)!\n"
     ]
    }
   ],
   "source": [
    "x = np.arange(20)\n",
    "print(\"arange 1D: \", x)\n",
    "y = np.reshape(x, (4, 5))\n",
    "print(\"\\nreshaped 2D: \\n\", y, \"\\n\")\n",
    "\n",
    "try:\n",
    "    z = np.reshape(x, (5, 5))\n",
    "except ValueError:\n",
    "    print(\"Z will fail with ValueError, it cannot reshape array of size 20 into shape (5,5)!\")"
   ]
  },
  {
   "cell_type": "code",
   "execution_count": 33,
   "metadata": {},
   "outputs": [
    {
     "name": "stdout",
     "output_type": "stream",
     "text": [
      "[[0.01385649 0.9258945  0.52263519]\n",
      " [0.91466573 0.65838074 0.1811005 ]\n",
      " [0.67326031 0.28568811 0.34354034]]\n"
     ]
    }
   ],
   "source": [
    "random_array = np.random.random((3, 3))\n",
    "print(random_array)"
   ]
  },
  {
   "cell_type": "code",
   "execution_count": 34,
   "metadata": {},
   "outputs": [
    {
     "name": "stdout",
     "output_type": "stream",
     "text": [
      "[[ 5 14]\n",
      " [ 4  7]\n",
      " [11  7]]\n"
     ]
    }
   ],
   "source": [
    "random_int = np.random.randint(4, 15, (3, 2))\n",
    "print(random_int)"
   ]
  },
  {
   "cell_type": "code",
   "execution_count": 38,
   "metadata": {},
   "outputs": [
    {
     "name": "stdout",
     "output_type": "stream",
     "text": [
      "This gives a 1000x1000 array of normal/gaussian distribution w/ mean=0, std dev=0.1 \n",
      "\n",
      "[[ 0.01289667  0.05276966  0.02824236 ...  0.10514806 -0.05108906\n",
      "  -0.11072513]\n",
      " [-0.02823885 -0.00574846  0.07580092 ... -0.05632063 -0.04207828\n",
      "   0.08787688]\n",
      " [ 0.05710716  0.06211718 -0.0345226  ... -0.18413866 -0.21544777\n",
      "  -0.11084232]\n",
      " ...\n",
      " [-0.08738216  0.01107896  0.05358118 ...  0.08788401 -0.00378445\n",
      "   0.18901478]\n",
      " [ 0.18159284  0.07810318 -0.16273987 ... -0.19324793 -0.16538658\n",
      "   0.17882044]\n",
      " [-0.23059794  0.01727862  0.1445534  ... -0.02650837 -0.05755347\n",
      "  -0.03615493]]\n"
     ]
    }
   ],
   "source": [
    "random_normal_dist = np.random.normal(0, 0.1, size=(1000,1000))\n",
    "print(\"This gives a 1000x1000 array of normal/gaussian distribution w/ mean=0, std dev=0.1 \\n\")\n",
    "print(random_normal_dist)"
   ]
  },
  {
   "cell_type": "code",
   "execution_count": 39,
   "metadata": {},
   "outputs": [
    {
     "name": "stdout",
     "output_type": "stream",
     "text": [
      "mean:  -4.867316097159501e-05\n",
      "std:  0.10011803168452399\n",
      "max:  0.48844677520684626\n",
      "min:  -0.47381662049814804\n",
      "# positives:  499489\n",
      "# negatives:  500511\n"
     ]
    }
   ],
   "source": [
    "print('mean: ', random_normal_dist.mean())\n",
    "print('std: ', random_normal_dist.std())\n",
    "print('max: ', random_normal_dist.max())\n",
    "print('min: ', random_normal_dist.min())\n",
    "print('# positives: ', (random_normal_dist > 0).sum())\n",
    "print('# negatives: ', (random_normal_dist < 0).sum())"
   ]
  },
  {
   "cell_type": "markdown",
   "metadata": {},
   "source": [
    "<b>Accessing, Deleting, and Inserting Elements Into ndarrays</b>"
   ]
  },
  {
   "cell_type": "code",
   "execution_count": 2,
   "metadata": {},
   "outputs": [
    {
     "name": "stdout",
     "output_type": "stream",
     "text": [
      "[1 2 3 4 5]\n"
     ]
    }
   ],
   "source": [
    "import numpy as np\n",
    "ex_index = np.array([1, 2, 3, 4, 5])\n",
    "print(ex_index)"
   ]
  },
  {
   "cell_type": "code",
   "execution_count": 3,
   "metadata": {},
   "outputs": [
    {
     "name": "stdout",
     "output_type": "stream",
     "text": [
      "1st:  1\n",
      "2nd:  2\n",
      "3rd:  3\n"
     ]
    }
   ],
   "source": [
    "print('1st: ', ex_index[0])\n",
    "print('2nd: ', ex_index[1])\n",
    "print('3rd: ', ex_index[2])"
   ]
  },
  {
   "cell_type": "code",
   "execution_count": 4,
   "metadata": {},
   "outputs": [
    {
     "name": "stdout",
     "output_type": "stream",
     "text": [
      "[ 1  2  3 20  5]\n"
     ]
    }
   ],
   "source": [
    "ex_index[3] = 20\n",
    "print(ex_index)"
   ]
  },
  {
   "cell_type": "code",
   "execution_count": 10,
   "metadata": {},
   "outputs": [
    {
     "name": "stdout",
     "output_type": "stream",
     "text": [
      "[1 2 3 4 5 6 7 8 9] \n",
      "\n",
      "[[1 2 3]\n",
      " [4 5 6]\n",
      " [7 8 9]]\n"
     ]
    }
   ],
   "source": [
    "ex_index2 = np.arange(1, 10)\n",
    "print(ex_index2, \"\\n\")\n",
    "ex_index2 = ex_index2.reshape(3, 3)\n",
    "print(ex_index2)"
   ]
  },
  {
   "cell_type": "code",
   "execution_count": 11,
   "metadata": {},
   "outputs": [
    {
     "name": "stdout",
     "output_type": "stream",
     "text": [
      "Element at (0, 0):  1\n",
      "Element at (0, 1):  2\n",
      "Element at (2, 2):  9\n"
     ]
    }
   ],
   "source": [
    "print(\"Element at (0, 0): \", ex_index2[0, 0])\n",
    "print(\"Element at (0, 1): \", ex_index2[0, 1])\n",
    "print(\"Element at (2, 2): \", ex_index2[2, 2])"
   ]
  },
  {
   "cell_type": "code",
   "execution_count": 12,
   "metadata": {},
   "outputs": [
    {
     "name": "stdout",
     "output_type": "stream",
     "text": [
      "[[20  2  3]\n",
      " [ 4  5  6]\n",
      " [ 7  8  9]]\n"
     ]
    }
   ],
   "source": [
    "ex_index2[0, 0] = 20\n",
    "print(ex_index2)"
   ]
  },
  {
   "cell_type": "code",
   "execution_count": 15,
   "metadata": {},
   "outputs": [
    {
     "name": "stdout",
     "output_type": "stream",
     "text": [
      "[1 2 3 4 5]\n",
      "[2 3 4]\n"
     ]
    }
   ],
   "source": [
    "ex_del = np.array([1, 2, 3, 4, 5])\n",
    "print(ex_del)\n",
    "\n",
    "ex_del = np.delete(ex_del, [0, 4])\n",
    "print(ex_del)"
   ]
  },
  {
   "cell_type": "code",
   "execution_count": 20,
   "metadata": {},
   "outputs": [
    {
     "name": "stdout",
     "output_type": "stream",
     "text": [
      "[[1 2 3]\n",
      " [4 5 6]\n",
      " [7 8 9]]\n",
      "\n",
      " [[4 5 6]\n",
      " [7 8 9]]\n",
      "\n",
      " [[2]\n",
      " [5]\n",
      " [8]]\n"
     ]
    }
   ],
   "source": [
    "ex_del2 = np.arange(1, 10).reshape(3, 3)\n",
    "print(ex_del2)\n",
    "\n",
    "ex_del2_row = np.delete(ex_del2, 0, axis=0)\n",
    "print(\"\\n\", ex_del2_row)\n",
    "\n",
    "ex_del2_col = np.delete(ex_del2, [0, 2], axis=1)\n",
    "print(\"\\n\", ex_del2_col)"
   ]
  },
  {
   "cell_type": "code",
   "execution_count": 24,
   "metadata": {},
   "outputs": [
    {
     "name": "stdout",
     "output_type": "stream",
     "text": [
      "[1 2 3 4 5]\n",
      "[1 2 3 4 5 6]\n",
      "[1 2 3 4 5 6 7 8 9]\n"
     ]
    }
   ],
   "source": [
    "ex_append = np.array([1,2,3,4,5])\n",
    "print(ex_append)\n",
    "\n",
    "ex_append = np.append(ex_append, [6])\n",
    "print(ex_append)\n",
    "\n",
    "ex_append = np.append(ex_append, [7,8,9])\n",
    "print(ex_append)"
   ]
  },
  {
   "cell_type": "code",
   "execution_count": 35,
   "metadata": {},
   "outputs": [
    {
     "name": "stdout",
     "output_type": "stream",
     "text": [
      "[[1 2 3]\n",
      " [4 5 6]\n",
      " [7 8 9]]\n",
      "\n",
      " [[ 1  2  3]\n",
      " [ 4  5  6]\n",
      " [ 7  8  9]\n",
      " [10 11 12]]\n",
      "\n",
      " [[ 1  2  3  6]\n",
      " [ 4  5  6 15]\n",
      " [ 7  8  9 24]\n",
      " [10 11 12 34]]\n"
     ]
    }
   ],
   "source": [
    "ex_append2 = np.arange(1, 10).reshape(3, 3)\n",
    "print(ex_append2)\n",
    "\n",
    "ex_append2 = np.append(ex_append2, [[10, 11, 12]], axis=0)\n",
    "print(\"\\n\", ex_append2)\n",
    "\n",
    "ex_append2 = np.append(ex_append2, [[6],[15],[24], [34]], axis=1)\n",
    "print(\"\\n\", ex_append2)"
   ]
  },
  {
   "cell_type": "code",
   "execution_count": 37,
   "metadata": {},
   "outputs": [
    {
     "name": "stdout",
     "output_type": "stream",
     "text": [
      "[1 2 5 6 7]\n",
      "\n",
      " [1 2 3 4 5 6 7]\n"
     ]
    }
   ],
   "source": [
    "ex_insert = np.array([1,2,5,6,7])\n",
    "print(ex_insert)\n",
    "\n",
    "ex_insert = np.insert(ex_insert, 2, [3,4])\n",
    "print(\"\\n\", ex_insert)"
   ]
  },
  {
   "cell_type": "code",
   "execution_count": 43,
   "metadata": {},
   "outputs": [
    {
     "name": "stdout",
     "output_type": "stream",
     "text": [
      "[[1 2 3]\n",
      " [7 8 9]]\n",
      "\n",
      " [[1 2 3]\n",
      " [4 5 6]\n",
      " [7 8 9]]\n",
      "\n",
      " [[1 5 2 3]\n",
      " [4 5 5 6]\n",
      " [7 5 8 9]]\n"
     ]
    }
   ],
   "source": [
    "ex_insert2 = np.array([[1,2,3], [7,8,9]])\n",
    "print(ex_insert2)\n",
    "\n",
    "ex_insert2 = np.insert(ex_insert2, 1, [4,5,6], axis=0)\n",
    "print(\"\\n\", ex_insert2)\n",
    "\n",
    "ex_insert2 = np.insert(ex_insert2, 1, 5, axis=1)\n",
    "print(\"\\n\", ex_insert2)"
   ]
  },
  {
   "cell_type": "code",
   "execution_count": 48,
   "metadata": {},
   "outputs": [
    {
     "name": "stdout",
     "output_type": "stream",
     "text": [
      "[1 2]\n",
      "\n",
      " [[3 4]\n",
      " [5 6]]\n",
      "\n",
      " [[1 2]\n",
      " [3 4]\n",
      " [5 6]]\n",
      "\n",
      " [[1 3 4]\n",
      " [2 5 6]]\n"
     ]
    }
   ],
   "source": [
    "stack_single = np.array([1,2])\n",
    "print(stack_single)\n",
    "\n",
    "stack_multi = np.array([[3,4], [5,6]])\n",
    "print(\"\\n\", stack_multi)\n",
    "\n",
    "vert_stack = np.vstack([stack_single, stack_multi])\n",
    "print(\"\\n\", vert_stack)\n",
    "\n",
    "horiz_stack = np.hstack([stack_single.reshape(2, 1), stack_multi])\n",
    "print(\"\\n\", horiz_stack)"
   ]
  },
  {
   "cell_type": "markdown",
   "metadata": {},
   "source": [
    "<b>Slicing ndarrays</b>\n",
    "(Remember: slicing doesn't make a new array with the variable assignment!  It creates a view of the current array!"
   ]
  },
  {
   "cell_type": "code",
   "execution_count": 6,
   "metadata": {},
   "outputs": [],
   "source": [
    "import numpy as np"
   ]
  },
  {
   "cell_type": "code",
   "execution_count": 8,
   "metadata": {},
   "outputs": [
    {
     "name": "stdout",
     "output_type": "stream",
     "text": [
      "[[ 1  2  3  4  5]\n",
      " [ 6  7  8  9 10]\n",
      " [11 12 13 14 15]\n",
      " [16 17 18 19 20]]\n"
     ]
    }
   ],
   "source": [
    "ex_slice = np.arange(1,21).reshape(4,5)\n",
    "print(ex_slice)"
   ]
  },
  {
   "cell_type": "markdown",
   "metadata": {},
   "source": [
    "Start+End slice = array_var\\[row_start:row_end, column_start:column_end\\]"
   ]
  },
  {
   "cell_type": "code",
   "execution_count": 9,
   "metadata": {},
   "outputs": [
    {
     "name": "stdout",
     "output_type": "stream",
     "text": [
      "[[ 8  9 10]\n",
      " [13 14 15]\n",
      " [18 19 20]]\n"
     ]
    }
   ],
   "source": [
    "ex_slice_range = ex_slice[1:4, 2:5]\n",
    "print(ex_slice_range)"
   ]
  },
  {
   "cell_type": "code",
   "execution_count": 10,
   "metadata": {},
   "outputs": [
    {
     "name": "stdout",
     "output_type": "stream",
     "text": [
      "[[ 8  9 10]\n",
      " [13 14 15]\n",
      " [18 19 20]]\n"
     ]
    }
   ],
   "source": [
    "ex_slice_start = ex_slice[1:, 2:]\n",
    "print(ex_slice_start)"
   ]
  },
  {
   "cell_type": "code",
   "execution_count": 11,
   "metadata": {},
   "outputs": [
    {
     "name": "stdout",
     "output_type": "stream",
     "text": [
      "[[ 3  4  5]\n",
      " [ 8  9 10]\n",
      " [13 14 15]]\n"
     ]
    }
   ],
   "source": [
    "ex_slice_end = ex_slice[:3, 2:]\n",
    "print(ex_slice_end)"
   ]
  },
  {
   "cell_type": "code",
   "execution_count": 12,
   "metadata": {},
   "outputs": [
    {
     "name": "stdout",
     "output_type": "stream",
     "text": [
      "[ 3  8 13 18]\n"
     ]
    }
   ],
   "source": [
    "ex_slice_third_column = ex_slice[:, 2]\n",
    "print(ex_slice_third_column)"
   ]
  },
  {
   "cell_type": "code",
   "execution_count": 15,
   "metadata": {},
   "outputs": [
    {
     "name": "stdout",
     "output_type": "stream",
     "text": [
      "[[ 3]\n",
      " [ 8]\n",
      " [13]\n",
      " [18]]\n"
     ]
    }
   ],
   "source": [
    "ex_slice_third_column_2 = ex_slice[:, 2:3]\n",
    "print(ex_slice_third_column_2)"
   ]
  },
  {
   "cell_type": "code",
   "execution_count": 16,
   "metadata": {},
   "outputs": [
    {
     "name": "stdout",
     "output_type": "stream",
     "text": [
      "[[ 0  1  2  3  4]\n",
      " [ 5  6  7  8  9]\n",
      " [10 11 12 13 14]\n",
      " [15 16 17 18 19]]\n"
     ]
    }
   ],
   "source": [
    "ex_copy = np.arange(20).reshape(4, 5)\n",
    "print(ex_copy)"
   ]
  },
  {
   "cell_type": "code",
   "execution_count": 17,
   "metadata": {},
   "outputs": [
    {
     "name": "stdout",
     "output_type": "stream",
     "text": [
      "[[ 7  8  9]\n",
      " [12 13 14]\n",
      " [17 18 19]]\n"
     ]
    }
   ],
   "source": [
    "ex_copy_copy = ex_copy[1:, 2:].copy()\n",
    "print(ex_copy_copy)"
   ]
  },
  {
   "cell_type": "code",
   "execution_count": 19,
   "metadata": {},
   "outputs": [
    {
     "name": "stdout",
     "output_type": "stream",
     "text": [
      "[1 3]\n"
     ]
    }
   ],
   "source": [
    "indices = np.array([1, 3])\n",
    "print(indices)"
   ]
  },
  {
   "cell_type": "code",
   "execution_count": 21,
   "metadata": {},
   "outputs": [
    {
     "name": "stdout",
     "output_type": "stream",
     "text": [
      "[[ 5  6  7  8  9]\n",
      " [15 16 17 18 19]]\n"
     ]
    }
   ],
   "source": [
    "ex_indices = ex_copy[indices, :]\n",
    "print(ex_indices)"
   ]
  },
  {
   "cell_type": "code",
   "execution_count": 23,
   "metadata": {},
   "outputs": [
    {
     "name": "stdout",
     "output_type": "stream",
     "text": [
      "[[ 1  3]\n",
      " [ 6  8]\n",
      " [11 13]\n",
      " [16 18]]\n"
     ]
    }
   ],
   "source": [
    "ex_indices_2 = ex_copy[:, indices]\n",
    "print(ex_indices_2)"
   ]
  },
  {
   "cell_type": "code",
   "execution_count": 25,
   "metadata": {},
   "outputs": [
    {
     "name": "stdout",
     "output_type": "stream",
     "text": [
      "[[ 0  1  2  3  4]\n",
      " [ 5  6  7  8  9]\n",
      " [10 11 12 13 14]\n",
      " [15 16 17 18 19]]\n"
     ]
    }
   ],
   "source": [
    "print(ex_copy)"
   ]
  },
  {
   "cell_type": "code",
   "execution_count": 24,
   "metadata": {},
   "outputs": [
    {
     "name": "stdout",
     "output_type": "stream",
     "text": [
      "[ 0  6 12 18]\n"
     ]
    }
   ],
   "source": [
    "ex_diagonal = np.diag(ex_copy)\n",
    "print(ex_diagonal)"
   ]
  },
  {
   "cell_type": "code",
   "execution_count": 26,
   "metadata": {},
   "outputs": [
    {
     "name": "stdout",
     "output_type": "stream",
     "text": [
      "[ 1  7 13 19]\n"
     ]
    }
   ],
   "source": [
    "ex_diagonal_2 = np.diag(ex_copy, k=1)\n",
    "print(ex_diagonal_2)"
   ]
  },
  {
   "cell_type": "code",
   "execution_count": 27,
   "metadata": {},
   "outputs": [
    {
     "name": "stdout",
     "output_type": "stream",
     "text": [
      "[ 5 11 17]\n"
     ]
    }
   ],
   "source": [
    "ex_diagonal_3 = np.diag(ex_copy, k=-1)\n",
    "print(ex_diagonal_3)"
   ]
  },
  {
   "cell_type": "code",
   "execution_count": 28,
   "metadata": {},
   "outputs": [
    {
     "name": "stdout",
     "output_type": "stream",
     "text": [
      "[[1 2 3]\n",
      " [5 2 8]\n",
      " [1 2 3]]\n"
     ]
    }
   ],
   "source": [
    "ex_unique = np.array([[1, 2, 3], [5, 2, 8], [1, 2, 3]])\n",
    "print(ex_unique)"
   ]
  },
  {
   "cell_type": "code",
   "execution_count": 30,
   "metadata": {},
   "outputs": [
    {
     "name": "stdout",
     "output_type": "stream",
     "text": [
      "[1 2 3 5 8]\n"
     ]
    }
   ],
   "source": [
    "print(np.unique(ex_unique))"
   ]
  },
  {
   "cell_type": "markdown",
   "metadata": {},
   "source": [
    "<b>Boolean Indexing, Set Operations & Sorting</b>"
   ]
  },
  {
   "cell_type": "code",
   "execution_count": null,
   "metadata": {},
   "outputs": [],
   "source": []
  },
  {
   "cell_type": "code",
   "execution_count": 31,
   "metadata": {},
   "outputs": [],
   "source": [
    "import numpy as np"
   ]
  },
  {
   "cell_type": "code",
   "execution_count": 33,
   "metadata": {},
   "outputs": [
    {
     "name": "stdout",
     "output_type": "stream",
     "text": [
      "[[ 0  1  2  3  4]\n",
      " [ 5  6  7  8  9]\n",
      " [10 11 12 13 14]\n",
      " [15 16 17 18 19]\n",
      " [20 21 22 23 24]]\n"
     ]
    }
   ],
   "source": [
    "ex_bool_array = np.arange(25).reshape(5, 5)\n",
    "print(ex_bool_array)"
   ]
  },
  {
   "cell_type": "code",
   "execution_count": 34,
   "metadata": {},
   "outputs": [
    {
     "name": "stdout",
     "output_type": "stream",
     "text": [
      "[11 12 13 14 15 16 17 18 19 20 21 22 23 24]\n"
     ]
    }
   ],
   "source": [
    "print(ex_bool_array[ex_bool_array > 10])"
   ]
  },
  {
   "cell_type": "code",
   "execution_count": 35,
   "metadata": {},
   "outputs": [
    {
     "name": "stdout",
     "output_type": "stream",
     "text": [
      "[0 1 2 3 4 5 6 7]\n"
     ]
    }
   ],
   "source": [
    "print(ex_bool_array[ex_bool_array <= 7])"
   ]
  },
  {
   "cell_type": "code",
   "execution_count": 37,
   "metadata": {},
   "outputs": [
    {
     "name": "stdout",
     "output_type": "stream",
     "text": [
      "[11 12 13 14 15 16]\n"
     ]
    }
   ],
   "source": [
    "print(ex_bool_array[(ex_bool_array > 10) & (ex_bool_array < 17)])"
   ]
  },
  {
   "cell_type": "code",
   "execution_count": 38,
   "metadata": {},
   "outputs": [
    {
     "name": "stdout",
     "output_type": "stream",
     "text": [
      "[[ 0  1  2  3  4]\n",
      " [ 5  6  7  8  9]\n",
      " [10 -1 -1 -1 -1]\n",
      " [-1 -1 17 18 19]\n",
      " [20 21 22 23 24]]\n"
     ]
    }
   ],
   "source": [
    "ex_bool_array[(ex_bool_array > 10) & (ex_bool_array < 17)] = -1\n",
    "print(ex_bool_array)"
   ]
  },
  {
   "cell_type": "code",
   "execution_count": 42,
   "metadata": {},
   "outputs": [
    {
     "name": "stdout",
     "output_type": "stream",
     "text": [
      "[2 4]\n",
      "[1 3 5]\n",
      "[1 2 3 4 5 6 7 8]\n"
     ]
    }
   ],
   "source": [
    "ex_set_op1 = np.array([1,2,3,4,5])\n",
    "ex_set_op2 = np.array([6,7,2,8,4])\n",
    "\n",
    "print(np.intersect1d(ex_set_op1, ex_set_op2))\n",
    "print(np.setdiff1d(ex_set_op1, ex_set_op2))\n",
    "print(np.union1d(ex_set_op1, ex_set_op2))"
   ]
  },
  {
   "cell_type": "code",
   "execution_count": 44,
   "metadata": {},
   "outputs": [
    {
     "name": "stdout",
     "output_type": "stream",
     "text": [
      "[ 4  8  4  3 10  1  2  5  4  7]\n"
     ]
    }
   ],
   "source": [
    "ex_sort_1d = np.random.randint(1, 11, size=(10,))\n",
    "print(ex_sort_1d)"
   ]
  },
  {
   "cell_type": "code",
   "execution_count": 46,
   "metadata": {},
   "outputs": [
    {
     "name": "stdout",
     "output_type": "stream",
     "text": [
      "[ 1  2  3  4  4  4  5  7  8 10]\n",
      "[ 4  8  4  3 10  1  2  5  4  7]\n"
     ]
    }
   ],
   "source": [
    "print(np.sort(ex_sort_1d))\n",
    "print(ex_sort_1d)"
   ]
  },
  {
   "cell_type": "code",
   "execution_count": 48,
   "metadata": {},
   "outputs": [
    {
     "name": "stdout",
     "output_type": "stream",
     "text": [
      "[ 1  2  3  4  5  7  8 10]\n"
     ]
    }
   ],
   "source": [
    "print(np.sort(np.unique(ex_sort_1d)))"
   ]
  },
  {
   "cell_type": "code",
   "execution_count": 50,
   "metadata": {},
   "outputs": [
    {
     "name": "stdout",
     "output_type": "stream",
     "text": [
      "[ 4  8  4  3 10  1  2  5  4  7]\n",
      "[ 1  2  3  4  4  4  5  7  8 10]\n"
     ]
    }
   ],
   "source": [
    "print(ex_sort_1d)\n",
    "ex_sort_1d.sort()\n",
    "print(ex_sort_1d)"
   ]
  },
  {
   "cell_type": "code",
   "execution_count": 51,
   "metadata": {},
   "outputs": [
    {
     "name": "stdout",
     "output_type": "stream",
     "text": [
      "[[10 10  8  8  2]\n",
      " [ 9 10  7 10  9]\n",
      " [ 5 10  2  9  1]\n",
      " [ 9  6  4  2  6]\n",
      " [ 6  1  9  4  1]]\n"
     ]
    }
   ],
   "source": [
    "ex_sort_2d = np.random.randint(1, 11, size=(5,5))\n",
    "print(ex_sort_2d)"
   ]
  },
  {
   "cell_type": "code",
   "execution_count": 52,
   "metadata": {},
   "outputs": [
    {
     "name": "stdout",
     "output_type": "stream",
     "text": [
      "[[ 5  1  2  2  1]\n",
      " [ 6  6  4  4  1]\n",
      " [ 9 10  7  8  2]\n",
      " [ 9 10  8  9  6]\n",
      " [10 10  9 10  9]]\n"
     ]
    }
   ],
   "source": [
    "print(np.sort(ex_sort_2d, axis=0))"
   ]
  },
  {
   "cell_type": "code",
   "execution_count": 53,
   "metadata": {},
   "outputs": [
    {
     "name": "stdout",
     "output_type": "stream",
     "text": [
      "[[ 2  8  8 10 10]\n",
      " [ 7  9  9 10 10]\n",
      " [ 1  2  5  9 10]\n",
      " [ 2  4  6  6  9]\n",
      " [ 1  1  4  6  9]]\n"
     ]
    }
   ],
   "source": [
    "print(np.sort(ex_sort_2d, axis=1))"
   ]
  },
  {
   "cell_type": "markdown",
   "metadata": {},
   "source": [
    "<b>Arithmetic Operations and Broadcasting</b>"
   ]
  },
  {
   "cell_type": "code",
   "execution_count": 54,
   "metadata": {},
   "outputs": [],
   "source": [
    "import numpy as np"
   ]
  },
  {
   "cell_type": "code",
   "execution_count": 55,
   "metadata": {},
   "outputs": [
    {
     "name": "stdout",
     "output_type": "stream",
     "text": [
      "[1 2 3 4]\n",
      "[5 6 7 8]\n"
     ]
    }
   ],
   "source": [
    "x = np.array([1,2,3,4])\n",
    "y = np.array([5,6,7,8])\n",
    "print(x)\n",
    "print(y)"
   ]
  },
  {
   "cell_type": "code",
   "execution_count": 56,
   "metadata": {},
   "outputs": [
    {
     "name": "stdout",
     "output_type": "stream",
     "text": [
      "[ 6  8 10 12]\n",
      "[ 6  8 10 12]\n"
     ]
    }
   ],
   "source": [
    "print(x+y)\n",
    "print(np.add(x,y))"
   ]
  },
  {
   "cell_type": "code",
   "execution_count": 57,
   "metadata": {},
   "outputs": [
    {
     "name": "stdout",
     "output_type": "stream",
     "text": [
      "[-4 -4 -4 -4]\n",
      "[-4 -4 -4 -4]\n",
      "[ 5 12 21 32]\n",
      "[ 5 12 21 32]\n",
      "[0.2        0.33333333 0.42857143 0.5       ]\n",
      "[0.2        0.33333333 0.42857143 0.5       ]\n"
     ]
    }
   ],
   "source": [
    "print(x-y)\n",
    "print(np.subtract(x,y))\n",
    "print(x*y)\n",
    "print(np.multiply(x,y))\n",
    "print(x/y)\n",
    "print(np.divide(x,y))"
   ]
  },
  {
   "cell_type": "code",
   "execution_count": 58,
   "metadata": {},
   "outputs": [
    {
     "name": "stdout",
     "output_type": "stream",
     "text": [
      "[[1 2]\n",
      " [3 4]]\n"
     ]
    }
   ],
   "source": [
    "x_2d = np.array([1,2,3,4]).reshape(2,2)\n",
    "print(x_2d)"
   ]
  },
  {
   "cell_type": "code",
   "execution_count": 59,
   "metadata": {},
   "outputs": [
    {
     "name": "stdout",
     "output_type": "stream",
     "text": [
      "[[5 6]\n",
      " [7 8]]\n"
     ]
    }
   ],
   "source": [
    "y_2d = np.array([5,6,7,8]).reshape(2,2)\n",
    "print(y_2d)"
   ]
  },
  {
   "cell_type": "code",
   "execution_count": 60,
   "metadata": {},
   "outputs": [
    {
     "name": "stdout",
     "output_type": "stream",
     "text": [
      "[[ 6  8]\n",
      " [10 12]]\n",
      "[[-4 -4]\n",
      " [-4 -4]]\n"
     ]
    }
   ],
   "source": [
    "print(x_2d+y_2d)\n",
    "print(x_2d-y_2d)"
   ]
  },
  {
   "cell_type": "code",
   "execution_count": 65,
   "metadata": {},
   "outputs": [
    {
     "name": "stdout",
     "output_type": "stream",
     "text": [
      "[1 2 3 4]\n",
      "\n",
      " [1.         1.41421356 1.73205081 2.        ]\n",
      "\n",
      " [ 2.71828183  7.3890561  20.08553692 54.59815003]\n",
      "\n",
      " [ 1  4  9 16]\n"
     ]
    }
   ],
   "source": [
    "print(x)\n",
    "print(\"\\n\", np.sqrt(x))\n",
    "print(\"\\n\", np.exp(x))\n",
    "print(\"\\n\", np.power(x, 2))"
   ]
  },
  {
   "cell_type": "markdown",
   "metadata": {},
   "source": [
    "Statistical Functions"
   ]
  },
  {
   "cell_type": "code",
   "execution_count": 66,
   "metadata": {},
   "outputs": [
    {
     "name": "stdout",
     "output_type": "stream",
     "text": [
      "Mean:  2.5\n"
     ]
    }
   ],
   "source": [
    "print(\"Mean: \", x.mean())"
   ]
  },
  {
   "cell_type": "code",
   "execution_count": 68,
   "metadata": {},
   "outputs": [
    {
     "name": "stdout",
     "output_type": "stream",
     "text": [
      "[[1 2]\n",
      " [3 4]] \n",
      "\n",
      "Mean of columns:  [2. 3.]\n",
      "Mean of rows:  [1.5 3.5]\n"
     ]
    }
   ],
   "source": [
    "print(x_2d, \"\\n\")\n",
    "\n",
    "print(\"Mean of columns: \", x_2d.mean(axis=0))\n",
    "print(\"Mean of rows: \", x_2d.mean(axis=1))"
   ]
  },
  {
   "cell_type": "code",
   "execution_count": 69,
   "metadata": {
    "scrolled": true
   },
   "outputs": [
    {
     "data": {
      "text/plain": [
       "1.118033988749895"
      ]
     },
     "execution_count": 69,
     "metadata": {},
     "output_type": "execute_result"
    }
   ],
   "source": [
    "x.std()"
   ]
  },
  {
   "cell_type": "code",
   "execution_count": 70,
   "metadata": {},
   "outputs": [
    {
     "data": {
      "text/plain": [
       "2.5"
      ]
     },
     "execution_count": 70,
     "metadata": {},
     "output_type": "execute_result"
    }
   ],
   "source": [
    "np.median(x)"
   ]
  },
  {
   "cell_type": "code",
   "execution_count": 73,
   "metadata": {},
   "outputs": [
    {
     "data": {
      "text/plain": [
       "4"
      ]
     },
     "execution_count": 73,
     "metadata": {},
     "output_type": "execute_result"
    }
   ],
   "source": [
    "x.max()"
   ]
  },
  {
   "cell_type": "code",
   "execution_count": 74,
   "metadata": {},
   "outputs": [
    {
     "data": {
      "text/plain": [
       "1"
      ]
     },
     "execution_count": 74,
     "metadata": {},
     "output_type": "execute_result"
    }
   ],
   "source": [
    "x.min()"
   ]
  },
  {
   "cell_type": "code",
   "execution_count": 75,
   "metadata": {},
   "outputs": [
    {
     "name": "stdout",
     "output_type": "stream",
     "text": [
      "[[1 2]\n",
      " [3 4]]\n"
     ]
    }
   ],
   "source": [
    "print(x_2d)"
   ]
  },
  {
   "cell_type": "code",
   "execution_count": 77,
   "metadata": {},
   "outputs": [
    {
     "name": "stdout",
     "output_type": "stream",
     "text": [
      "[[4 5]\n",
      " [6 7]] \n",
      "\n",
      "[[-2 -1]\n",
      " [ 0  1]] \n",
      "\n",
      "[[ 3  6]\n",
      " [ 9 12]] \n",
      "\n",
      "[[0.33333333 0.66666667]\n",
      " [1.         1.33333333]]\n"
     ]
    }
   ],
   "source": [
    "print(3 + x_2d, \"\\n\")\n",
    "print(x_2d - 3, \"\\n\")\n",
    "print(x_2d * 3, \"\\n\")\n",
    "print(x_2d / 3)"
   ]
  },
  {
   "cell_type": "code",
   "execution_count": 80,
   "metadata": {},
   "outputs": [
    {
     "name": "stdout",
     "output_type": "stream",
     "text": [
      "[[0 1 2]\n",
      " [3 4 5]\n",
      " [6 7 8]] \n",
      "\n",
      "[0 1 2]\n"
     ]
    }
   ],
   "source": [
    "z_2d = np.arange(9).reshape(3, 3)\n",
    "print(z_2d, \"\\n\")\n",
    "z = np.arange(3)\n",
    "print(z)"
   ]
  },
  {
   "cell_type": "code",
   "execution_count": 81,
   "metadata": {},
   "outputs": [
    {
     "name": "stdout",
     "output_type": "stream",
     "text": [
      "[[ 0  2  4]\n",
      " [ 3  5  7]\n",
      " [ 6  8 10]]\n"
     ]
    }
   ],
   "source": [
    "print(z + z_2d)"
   ]
  },
  {
   "cell_type": "code",
   "execution_count": 82,
   "metadata": {},
   "outputs": [
    {
     "ename": "ValueError",
     "evalue": "operands could not be broadcast together with shapes (2,2) (3,3) ",
     "output_type": "error",
     "traceback": [
      "\u001b[1;31m---------------------------------------------------------------------------\u001b[0m",
      "\u001b[1;31mValueError\u001b[0m                                Traceback (most recent call last)",
      "\u001b[1;32m<ipython-input-82-4beb3be375a7>\u001b[0m in \u001b[0;36m<module>\u001b[1;34m\u001b[0m\n\u001b[1;32m----> 1\u001b[1;33m \u001b[0mprint\u001b[0m\u001b[1;33m(\u001b[0m\u001b[0mx_2d\u001b[0m \u001b[1;33m+\u001b[0m \u001b[0mz_2d\u001b[0m\u001b[1;33m)\u001b[0m\u001b[1;33m\u001b[0m\u001b[1;33m\u001b[0m\u001b[0m\n\u001b[0m",
      "\u001b[1;31mValueError\u001b[0m: operands could not be broadcast together with shapes (2,2) (3,3) "
     ]
    }
   ],
   "source": [
    "print(x_2d + z_2d)"
   ]
  },
  {
   "cell_type": "code",
   "execution_count": 84,
   "metadata": {},
   "outputs": [
    {
     "name": "stdout",
     "output_type": "stream",
     "text": [
      "[[0]\n",
      " [1]\n",
      " [2]] \n",
      "\n",
      "[[0 1 2]\n",
      " [3 4 5]\n",
      " [6 7 8]]\n"
     ]
    }
   ],
   "source": [
    "z_2 = np.arange(3).reshape(3,1)\n",
    "print(z_2, \"\\n\")\n",
    "print(z_2d)"
   ]
  },
  {
   "cell_type": "code",
   "execution_count": 86,
   "metadata": {},
   "outputs": [
    {
     "name": "stdout",
     "output_type": "stream",
     "text": [
      "[[ 0  1  2]\n",
      " [ 4  5  6]\n",
      " [ 8  9 10]] \n",
      "\n",
      "[[0 1 2]\n",
      " [2 3 4]\n",
      " [4 5 6]]\n"
     ]
    }
   ],
   "source": [
    "print(z_2 + z_2d, \"\\n\")\n",
    "print(z_2d - z_2)"
   ]
  }
 ],
 "metadata": {
  "kernelspec": {
   "display_name": "Python 3",
   "language": "python",
   "name": "python3"
  },
  "language_info": {
   "codemirror_mode": {
    "name": "ipython",
    "version": 3
   },
   "file_extension": ".py",
   "mimetype": "text/x-python",
   "name": "python",
   "nbconvert_exporter": "python",
   "pygments_lexer": "ipython3",
   "version": "3.7.6"
  }
 },
 "nbformat": 4,
 "nbformat_minor": 4
}
